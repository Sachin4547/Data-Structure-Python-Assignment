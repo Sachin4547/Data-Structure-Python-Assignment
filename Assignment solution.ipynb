{
  "nbformat": 4,
  "nbformat_minor": 0,
  "metadata": {
    "colab": {
      "provenance": []
    },
    "kernelspec": {
      "name": "python3",
      "display_name": "Python 3"
    },
    "language_info": {
      "name": "python"
    }
  },
  "cells": [
    {
      "cell_type": "markdown",
      "source": [
        "Write a code to reverse a string"
      ],
      "metadata": {
        "id": "aAN0ESpfXUlO"
      }
    },
    {
      "cell_type": "code",
      "execution_count": null,
      "metadata": {
        "colab": {
          "base_uri": "https://localhost:8080/"
        },
        "id": "bhxHwDZgXC78",
        "outputId": "ad18ba2c-df2c-4695-ac73-a935ed51bbc0"
      },
      "outputs": [
        {
          "output_type": "stream",
          "name": "stdout",
          "text": [
            "sllikswP\n"
          ]
        }
      ],
      "source": [
        "Name = \"Pwskills\"\n",
        "Reverse = Name[::-1]\n",
        "print(Reverse)\n"
      ]
    },
    {
      "cell_type": "markdown",
      "source": [
        "Write a code to count the number of vowel in string"
      ],
      "metadata": {
        "id": "q5nFySo5Xv9f"
      }
    },
    {
      "cell_type": "code",
      "source": [
        "s = \"Pwskills\"\n",
        "vowels = \"aeiouAEIOU\"\n",
        "count = sum(s.count(vowel) for vowel in vowels)\n",
        "print(count)"
      ],
      "metadata": {
        "colab": {
          "base_uri": "https://localhost:8080/"
        },
        "id": "GNZtKBX2Xir-",
        "outputId": "5aefddde-d584-4bef-df2a-0e2a7410a432"
      },
      "execution_count": null,
      "outputs": [
        {
          "output_type": "stream",
          "name": "stdout",
          "text": [
            "1\n"
          ]
        }
      ]
    },
    {
      "cell_type": "markdown",
      "source": [
        "Write a code to check if a string is palandrome or not"
      ],
      "metadata": {
        "id": "nmc0qK_7cIY1"
      }
    },
    {
      "cell_type": "code",
      "source": [
        "string = \"madam\"\n",
        "if string == string[::-1]:\n",
        "    print(\"The string is a palindrome.\")\n",
        "else:\n",
        "    print(\"The string is not a palindrome.\")"
      ],
      "metadata": {
        "colab": {
          "base_uri": "https://localhost:8080/"
        },
        "id": "qMKBrxQVX4oM",
        "outputId": "4a791266-aed3-4c2a-f951-555d20ab8466"
      },
      "execution_count": null,
      "outputs": [
        {
          "output_type": "stream",
          "name": "stdout",
          "text": [
            "The string is a palindrome.\n"
          ]
        }
      ]
    },
    {
      "cell_type": "code",
      "source": [
        "string = \"Sangeeta\"\n",
        "if string == string[::-1]:\n",
        "    print(\"The string is a palindrome.\")\n",
        "else:\n",
        "    print(\"The string is not a palindrome.\")\n"
      ],
      "metadata": {
        "id": "GFHB9JFuYk2w",
        "colab": {
          "base_uri": "https://localhost:8080/"
        },
        "outputId": "74432e70-a597-4dda-919f-0d8d705ef7b2"
      },
      "execution_count": null,
      "outputs": [
        {
          "output_type": "stream",
          "name": "stdout",
          "text": [
            "The string is not a palindrome.\n"
          ]
        }
      ]
    },
    {
      "cell_type": "markdown",
      "source": [
        "Write a code to check if string are anagrams of each other or not"
      ],
      "metadata": {
        "id": "nbxMpqxrcnAM"
      }
    },
    {
      "cell_type": "code",
      "source": [
        "def are_anagram(str1,str2):\n",
        "  str1 = str1.replace(\" \",\"\").lower()\n",
        "  str2 = str2.replace(\" \",\"\").lower()\n",
        "  if len(str1)!= len(str2):\n",
        "    return False\n",
        "  else:\n",
        "    return True"
      ],
      "metadata": {
        "id": "d3oFGLc2eB7X"
      },
      "execution_count": null,
      "outputs": []
    },
    {
      "cell_type": "code",
      "source": [
        "are_anagram(\"Sachin\",\"Sangeeta\")"
      ],
      "metadata": {
        "colab": {
          "base_uri": "https://localhost:8080/"
        },
        "id": "lfF5juaD1ckN",
        "outputId": "b926baaf-752d-4843-f43a-e3108ca8ed9d"
      },
      "execution_count": null,
      "outputs": [
        {
          "output_type": "execute_result",
          "data": {
            "text/plain": [
              "False"
            ]
          },
          "metadata": {},
          "execution_count": 3
        }
      ]
    },
    {
      "cell_type": "markdown",
      "source": [
        "Write a code to find all occurence of a given substring within another string"
      ],
      "metadata": {
        "id": "1h2jPn3dfGXr"
      }
    },
    {
      "cell_type": "code",
      "source": [],
      "metadata": {
        "id": "uGhLbU0WtpOk"
      },
      "execution_count": null,
      "outputs": []
    },
    {
      "cell_type": "code",
      "source": [
        "def find_all_occurrences(main_string, substring):\n",
        "    start = 0\n",
        "    while start < len(main_string):\n",
        "        # Find the substring starting from the current position\n",
        "        start = main_string.find(substring, start)\n",
        "\n",
        "        if start == -1:  # No more occurrences found\n",
        "            break\n",
        "\n",
        "        # Print the starting index of the substring occurrence\n",
        "        print(f\"Substring '{substring}' found at index {start}\")\n",
        "\n",
        "        # Move start index to the next character after the found substring\n",
        "        start += 1\n",
        "\n",
        "# Example usage\n",
        "main_string = \"ababcabcabc\"\n",
        "substring = \"abc\"\n",
        "find_all_occurrences(main_string, substring)\n"
      ],
      "metadata": {
        "id": "3wGTDDX2ezVE",
        "colab": {
          "base_uri": "https://localhost:8080/"
        },
        "outputId": "ef26fbdc-cf23-471f-8a3d-4dd66714bb1a"
      },
      "execution_count": null,
      "outputs": [
        {
          "output_type": "stream",
          "name": "stdout",
          "text": [
            "Substring 'abc' found at index 2\n",
            "Substring 'abc' found at index 5\n",
            "Substring 'abc' found at index 8\n"
          ]
        }
      ]
    },
    {
      "cell_type": "markdown",
      "source": [
        "Write a code to perform basic string compression using the counts of repeated character."
      ],
      "metadata": {
        "id": "4DKboe0Gt7TW"
      }
    },
    {
      "cell_type": "code",
      "source": [
        "def compress_string(input_string):\n",
        "    if not input_string:\n",
        "        return \"\"\n",
        "\n",
        "    compressed_string = []\n",
        "    count = 1\n",
        "\n",
        "    for i in range(1, len(input_string)):\n",
        "        if input_string[i] == input_string[i - 1]:\n",
        "            count += 1\n",
        "        else:\n",
        "            compressed_string.append(input_string[i - 1] + str(count))\n",
        "            count = 1\n",
        "\n",
        "    # Add the last character and its count\n",
        "    compressed_string.append(input_string[-1] + str(count))\n",
        "\n",
        "    # Join the list into a string and return\n",
        "    compressed_result = ''.join(compressed_string)\n",
        "\n",
        "    # If the compressed string is not shorter, return the original string\n",
        "    return compressed_result if len(compressed_result) < len(input_string) else input_string\n",
        "\n",
        "# Example usage\n",
        "input_string = \"aaabbbcccaaa\"\n",
        "compressed = compress_string(input_string)\n",
        "print(\"Compressed string:\", compressed)\n"
      ],
      "metadata": {
        "colab": {
          "base_uri": "https://localhost:8080/"
        },
        "id": "ymGq4UrWt5dl",
        "outputId": "ce4fcd12-d463-42f4-a172-a3092d7b105c"
      },
      "execution_count": null,
      "outputs": [
        {
          "output_type": "stream",
          "name": "stdout",
          "text": [
            "Compressed string: a3b3c3a3\n"
          ]
        }
      ]
    },
    {
      "cell_type": "markdown",
      "source": [
        "Write a code to covert a string to lower case\n"
      ],
      "metadata": {
        "id": "ZPJ5G0hmvMEr"
      }
    },
    {
      "cell_type": "code",
      "source": [
        "string = \"Sachin\"\n",
        "string.lower()"
      ],
      "metadata": {
        "id": "s8Cc70GwuzBe",
        "colab": {
          "base_uri": "https://localhost:8080/",
          "height": 35
        },
        "outputId": "0cbbd03b-a23e-4b4d-81d7-d2b8ce8a1f30"
      },
      "execution_count": null,
      "outputs": [
        {
          "output_type": "execute_result",
          "data": {
            "text/plain": [
              "'sachin'"
            ],
            "application/vnd.google.colaboratory.intrinsic+json": {
              "type": "string"
            }
          },
          "metadata": {},
          "execution_count": 4
        }
      ]
    },
    {
      "cell_type": "code",
      "source": [
        "string = \"sangeeta\"\n",
        "string.upper()"
      ],
      "metadata": {
        "colab": {
          "base_uri": "https://localhost:8080/",
          "height": 35
        },
        "id": "tiiI5bPX2iRe",
        "outputId": "2d1071dc-49e0-4630-9a66-6adb83d67b9e"
      },
      "execution_count": null,
      "outputs": [
        {
          "output_type": "execute_result",
          "data": {
            "text/plain": [
              "'SANGEETA'"
            ],
            "application/vnd.google.colaboratory.intrinsic+json": {
              "type": "string"
            }
          },
          "metadata": {},
          "execution_count": 5
        }
      ]
    },
    {
      "cell_type": "markdown",
      "source": [
        "Write a code to count the number of words of a string"
      ],
      "metadata": {
        "id": "bfyeXBaD6q7s"
      }
    },
    {
      "cell_type": "code",
      "source": [
        "def count_words(s: str) :\n",
        "    return len(s.split())\n",
        "\n",
        "# Example usage:\n",
        "print(count_words(\"Hello world!\"))  # Output: 2\n",
        "print(count_words(\"Python is awesome.\"))  # Output: 3\n",
        "print(count_words(\"   Multiple   spaces   between words   \"))  # Output: 4\n"
      ],
      "metadata": {
        "colab": {
          "base_uri": "https://localhost:8080/"
        },
        "id": "nyBCCVhM8U5y",
        "outputId": "26a13556-639a-41cb-d19b-8ca8cb108776"
      },
      "execution_count": null,
      "outputs": [
        {
          "output_type": "stream",
          "name": "stdout",
          "text": [
            "2\n",
            "3\n",
            "4\n"
          ]
        }
      ]
    },
    {
      "cell_type": "markdown",
      "source": [
        "Write a code to concatenate two string without using the + operator"
      ],
      "metadata": {
        "id": "Fv6G3ywW_6Mi"
      }
    },
    {
      "cell_type": "code",
      "source": [
        "s = \"Apple\"\n",
        "b = \"Macbook\""
      ],
      "metadata": {
        "id": "O_h4x-Mz_Jgx"
      },
      "execution_count": null,
      "outputs": []
    },
    {
      "cell_type": "code",
      "source": [
        "s + b"
      ],
      "metadata": {
        "colab": {
          "base_uri": "https://localhost:8080/",
          "height": 35
        },
        "id": "0_cbXEezBOyg",
        "outputId": "d6505db1-f134-4b39-f199-88fcf49709d5"
      },
      "execution_count": null,
      "outputs": [
        {
          "output_type": "execute_result",
          "data": {
            "text/plain": [
              "'AppleMacbook'"
            ],
            "application/vnd.google.colaboratory.intrinsic+json": {
              "type": "string"
            }
          },
          "metadata": {},
          "execution_count": 18
        }
      ]
    },
    {
      "cell_type": "code",
      "source": [
        "def concatenate_strings(s1: str, s2: str):\n",
        "    return \"\".join([s1, s2])\n",
        "\n"
      ],
      "metadata": {
        "id": "ztriXnpJBTiv"
      },
      "execution_count": null,
      "outputs": []
    },
    {
      "cell_type": "code",
      "source": [
        "print(concatenate_strings(\"Apple\", \"Macbook\"))"
      ],
      "metadata": {
        "colab": {
          "base_uri": "https://localhost:8080/"
        },
        "id": "m5Ch0aAaBwxO",
        "outputId": "87dcf1dc-7cd5-4a2b-e680-c8733b169254"
      },
      "execution_count": null,
      "outputs": [
        {
          "output_type": "stream",
          "name": "stdout",
          "text": [
            "AppleMacbook\n"
          ]
        }
      ]
    },
    {
      "cell_type": "markdown",
      "source": [
        "Write a code to remove all specific occurence of a element in a list"
      ],
      "metadata": {
        "id": "3SpszC-qCS3k"
      }
    },
    {
      "cell_type": "code",
      "source": [
        "def remove_occurrences(lst: list, target) :\n",
        "    return [x for x in lst if x != target]\n",
        "\n",
        "# Example usage:\n",
        "print(remove_occurrences([1, 2, 3, 4, 2, 2, 5], 2))  # Output: [1, 3, 4, 5]\n",
        "print(remove_occurrences([\"a\", \"b\", \"c\", \"a\", \"d\"], \"a\"))  # Output: ['b', 'c', 'd']\n"
      ],
      "metadata": {
        "colab": {
          "base_uri": "https://localhost:8080/"
        },
        "id": "FMW5mVT5Cf2D",
        "outputId": "3a9856fd-1303-41f4-9f34-4beba0f73dbd"
      },
      "execution_count": null,
      "outputs": [
        {
          "output_type": "stream",
          "name": "stdout",
          "text": [
            "[1, 3, 4, 5]\n",
            "['b', 'c', 'd']\n"
          ]
        }
      ]
    },
    {
      "cell_type": "markdown",
      "source": [
        "Implement a code to find the second largest number of in a given list of integers"
      ],
      "metadata": {
        "id": "rs3n2LtLEJ1q"
      }
    },
    {
      "cell_type": "code",
      "source": [
        "l = [1,2,3,11,9,6,7]\n",
        "l.sort(reverse=True)\n",
        "print(l)\n",
        "l[1]\n"
      ],
      "metadata": {
        "colab": {
          "base_uri": "https://localhost:8080/"
        },
        "id": "K3Tbixh7D9gU",
        "outputId": "90d949f2-e5b3-4852-dbcc-42c575642a1e"
      },
      "execution_count": null,
      "outputs": [
        {
          "output_type": "stream",
          "name": "stdout",
          "text": [
            "[11, 9, 7, 6, 3, 2, 1]\n"
          ]
        },
        {
          "output_type": "execute_result",
          "data": {
            "text/plain": [
              "9"
            ]
          },
          "metadata": {},
          "execution_count": 36
        }
      ]
    },
    {
      "cell_type": "markdown",
      "source": [
        "Create a code to count the occurence of element in a list and return a dictionary with element as keys and their count as values"
      ],
      "metadata": {
        "id": "YKoQtP0VFIpw"
      }
    },
    {
      "cell_type": "code",
      "source": [
        "from collections import Counter\n",
        "\n",
        "def count_occurrences(lst: list) -> dict:\n",
        "    return dict(Counter(lst))\n",
        "\n",
        "# Example usage:\n",
        "print(count_occurrences([1, 2, 2, 3, 4, 4, 4, 5]))\n",
        "# Output: {1: 1, 2: 2, 3: 1, 4: 3, 5: 1}\n",
        "\n"
      ],
      "metadata": {
        "colab": {
          "base_uri": "https://localhost:8080/"
        },
        "id": "iIi6RfsDEu2J",
        "outputId": "747de6eb-4f04-40da-e960-5a66ee7efb1a"
      },
      "execution_count": null,
      "outputs": [
        {
          "output_type": "stream",
          "name": "stdout",
          "text": [
            "{1: 1, 2: 2, 3: 1, 4: 3, 5: 1}\n"
          ]
        }
      ]
    },
    {
      "cell_type": "markdown",
      "source": [
        "Q 15 : Write a code to reverse the element in a list without using the built in function reverse in it"
      ],
      "metadata": {
        "id": "e7VmshTPG7XH"
      }
    },
    {
      "cell_type": "code",
      "source": [
        "l = [1,2,3,4,56,53,34,23]\n",
        "l[::-1]"
      ],
      "metadata": {
        "colab": {
          "base_uri": "https://localhost:8080/"
        },
        "id": "RMSQnYdyEvoD",
        "outputId": "e4c5e5b5-d091-4869-e1bd-19d136ee4c97"
      },
      "execution_count": null,
      "outputs": [
        {
          "output_type": "execute_result",
          "data": {
            "text/plain": [
              "[23, 34, 53, 56, 4, 3, 2, 1]"
            ]
          },
          "metadata": {},
          "execution_count": 38
        }
      ]
    },
    {
      "cell_type": "markdown",
      "source": [
        "Q 16 : create a code to check whether a code is sorted in ascending order or descending order"
      ],
      "metadata": {
        "id": "3Z5zJo1AHI4U"
      }
    },
    {
      "cell_type": "code",
      "source": [
        "def sort(ele : list) :\n",
        "    return ele == sorted(ele) or ele == sorted(ele, reverse=True)"
      ],
      "metadata": {
        "id": "G8lUGLBYHHZn"
      },
      "execution_count": null,
      "outputs": []
    },
    {
      "cell_type": "code",
      "source": [
        "ele = [3,34,2,24,5,6,]"
      ],
      "metadata": {
        "id": "B-nKeEedHjm2"
      },
      "execution_count": null,
      "outputs": []
    },
    {
      "cell_type": "code",
      "source": [
        "sort(ele)"
      ],
      "metadata": {
        "colab": {
          "base_uri": "https://localhost:8080/"
        },
        "id": "gEeNigmoHl9G",
        "outputId": "28f229ef-23cb-4271-af03-d54068f0926a"
      },
      "execution_count": null,
      "outputs": [
        {
          "output_type": "execute_result",
          "data": {
            "text/plain": [
              "False"
            ]
          },
          "metadata": {},
          "execution_count": 45
        }
      ]
    },
    {
      "cell_type": "code",
      "source": [
        "ele = [1,2,3,4,5,6]\n",
        "sort(ele)"
      ],
      "metadata": {
        "colab": {
          "base_uri": "https://localhost:8080/"
        },
        "id": "dPp9nwLfHnq2",
        "outputId": "03bf771e-c30c-4fe2-8e38-76897168c3fd"
      },
      "execution_count": null,
      "outputs": [
        {
          "output_type": "execute_result",
          "data": {
            "text/plain": [
              "True"
            ]
          },
          "metadata": {},
          "execution_count": 46
        }
      ]
    },
    {
      "cell_type": "markdown",
      "source": [
        "Q 17 : Write a code to merge two sorted list into a list"
      ],
      "metadata": {
        "id": "tNIKvks6H00X"
      }
    },
    {
      "cell_type": "code",
      "source": [
        "l = [1,2,3,4,5]\n",
        "m = [11,12,13,14,15]\n",
        "l.extend(m)\n",
        "def sort(ele : list) :\n",
        "    return ele == sorted(ele) or ele == sorted(ele, reverse=True)"
      ],
      "metadata": {
        "id": "SFqek6weHsQJ"
      },
      "execution_count": null,
      "outputs": []
    },
    {
      "cell_type": "code",
      "source": [
        "sort(l)"
      ],
      "metadata": {
        "colab": {
          "base_uri": "https://localhost:8080/"
        },
        "id": "eBfnMcSaIY6T",
        "outputId": "40f3cffe-0cbf-435d-e188-054296156833"
      },
      "execution_count": null,
      "outputs": [
        {
          "output_type": "execute_result",
          "data": {
            "text/plain": [
              "True"
            ]
          },
          "metadata": {},
          "execution_count": 48
        }
      ]
    },
    {
      "cell_type": "code",
      "source": [
        "print(l)"
      ],
      "metadata": {
        "colab": {
          "base_uri": "https://localhost:8080/"
        },
        "id": "mSzGG46-Ia_x",
        "outputId": "7d662f07-90ad-4c91-e76a-03550a49ab90"
      },
      "execution_count": null,
      "outputs": [
        {
          "output_type": "stream",
          "name": "stdout",
          "text": [
            "[1, 2, 3, 4, 5, 11, 12, 13, 14, 15]\n"
          ]
        }
      ]
    },
    {
      "cell_type": "markdown",
      "source": [
        "Q 18 : Implement a code to find the intersection of two given list"
      ],
      "metadata": {
        "id": "q5nm6PGiIv1u"
      }
    },
    {
      "cell_type": "code",
      "source": [
        "def list_intersection(lst1: list, lst2: list) -> list:\n",
        "    return list(set(lst1) & set(lst2))  # Using set intersection\n",
        "\n",
        "# Example usage:\n",
        "print(list_intersection([1, 2, 3, 4, 5], [3, 4, 5, 6, 7]))\n",
        "# Output: [3, 4, 5]\n"
      ],
      "metadata": {
        "colab": {
          "base_uri": "https://localhost:8080/"
        },
        "id": "iI1pdssiI06Q",
        "outputId": "4c5fe38c-2989-416f-b7e4-273a95491cca"
      },
      "execution_count": null,
      "outputs": [
        {
          "output_type": "stream",
          "name": "stdout",
          "text": [
            "[3, 4, 5]\n"
          ]
        }
      ]
    },
    {
      "cell_type": "markdown",
      "source": [
        "Create a code to find union of two list without duplicate"
      ],
      "metadata": {
        "id": "nEBiuxCqKb5U"
      }
    },
    {
      "cell_type": "code",
      "source": [
        "l1 = [1,2,3,1,4,5,6]\n",
        "l2 = [6,7,8,6,7,9,1,19]\n",
        "def union(l1,l2):\n",
        "  return list(set(l1+l2))"
      ],
      "metadata": {
        "id": "WSuH-F-2I2Hi"
      },
      "execution_count": null,
      "outputs": []
    },
    {
      "cell_type": "code",
      "source": [
        "union(l1,l2)"
      ],
      "metadata": {
        "colab": {
          "base_uri": "https://localhost:8080/"
        },
        "id": "NSArMQi5IczD",
        "outputId": "4100a2d8-9dab-40a9-a4ab-b0c18c8526b0"
      },
      "execution_count": null,
      "outputs": [
        {
          "output_type": "execute_result",
          "data": {
            "text/plain": [
              "[1, 2, 3, 4, 5, 6, 7, 8, 9, 19]"
            ]
          },
          "metadata": {},
          "execution_count": 53
        }
      ]
    },
    {
      "cell_type": "markdown",
      "source": [
        "Write a code to take two tuple as input and return a new tuple containing element that are common to both input tuple"
      ],
      "metadata": {
        "id": "zw41hZ4FLF56"
      }
    },
    {
      "cell_type": "code",
      "source": [
        "t1 = (1,2,3,'sachin')\n",
        "t2 = (2,3,4,'sangeeta')\n",
        "\n",
        "def input_tuple(t1,t2):\n",
        "  return tuple(set(t1) & set(t2))\n"
      ],
      "metadata": {
        "id": "IjoNeePkItg3"
      },
      "execution_count": null,
      "outputs": []
    },
    {
      "cell_type": "code",
      "source": [
        "input_tuple(t1,t2)"
      ],
      "metadata": {
        "colab": {
          "base_uri": "https://localhost:8080/"
        },
        "id": "fgK54VZANI0N",
        "outputId": "826935a0-3252-4e45-d6b1-7181b210af19"
      },
      "execution_count": null,
      "outputs": [
        {
          "output_type": "execute_result",
          "data": {
            "text/plain": [
              "(2, 3)"
            ]
          },
          "metadata": {},
          "execution_count": 57
        }
      ]
    },
    {
      "cell_type": "markdown",
      "source": [
        "Develop a code that prompts the user to input two sets of string. Then,print the element that are present in the first set but not in the second set"
      ],
      "metadata": {
        "id": "8d5mcWAINh3L"
      }
    },
    {
      "cell_type": "code",
      "source": [
        "def get_set_difference():\n",
        "    set1 = set(input(\"Enter elements of the first set (space-separated): \").split())\n",
        "    set2 = set(input(\"Enter elements of the second set (space-separated): \").split())\n",
        "\n",
        "    difference = set1 - set2  # Elements in set1 but not in set2\n",
        "\n",
        "    print(\"Elements present in the first set but not in the second set:\", difference)\n",
        "\n",
        "# Run the function\n",
        "get_set_difference()\n"
      ],
      "metadata": {
        "colab": {
          "base_uri": "https://localhost:8080/"
        },
        "id": "dIv0pLwbNMsF",
        "outputId": "2b70e07d-0088-463d-aee4-d2133ab74953"
      },
      "execution_count": null,
      "outputs": [
        {
          "output_type": "stream",
          "name": "stdout",
          "text": [
            "Enter elements of the first set (space-separated): 1,2\n",
            "Enter elements of the second set (space-separated): 1,2\n",
            "Elements present in the first set but not in the second set: set()\n"
          ]
        }
      ]
    },
    {
      "cell_type": "markdown",
      "source": [
        "Q 25 : Create a tuple that takes a tuple and two integer as input. The function should return a new tuple containg elements from the tuple within the specified range of indices"
      ],
      "metadata": {
        "id": "vtaIypbwPkXz"
      }
    },
    {
      "cell_type": "code",
      "source": [
        "def slice_tuple(tpl: tuple, start: int, end: int) -> tuple:\n",
        "    return tpl[start:end]  # Slicing operation\n",
        "\n",
        "# Example usage:\n",
        "original_tuple = (10, 20, 30, 40, 50, 60)\n",
        "new_tuple = slice_tuple(original_tuple, 1, 4)  # Extract elements from index 1 to 3\n",
        "print(new_tuple)  # Output: (20, 30, 40)\n"
      ],
      "metadata": {
        "colab": {
          "base_uri": "https://localhost:8080/"
        },
        "id": "a_qrBSCCO7Gg",
        "outputId": "b8880e9b-5594-47cd-fe6e-89dd6b810fbf"
      },
      "execution_count": null,
      "outputs": [
        {
          "output_type": "stream",
          "name": "stdout",
          "text": [
            "(20, 30, 40)\n"
          ]
        }
      ]
    },
    {
      "cell_type": "markdown",
      "source": [
        "Q 26 : Write a code to prompt the the user to input two set of character. Then,print the union of theses sets.\n"
      ],
      "metadata": {
        "id": "IRieC9cIQiiY"
      }
    },
    {
      "cell_type": "code",
      "source": [
        "s1 = {1,2,3,4,3}\n",
        "s2 = {5,6,7,8,}\n",
        "def union(s1,s2):\n",
        "  print(set(s1) | set(s2))"
      ],
      "metadata": {
        "id": "UCN13KqRQSvy"
      },
      "execution_count": null,
      "outputs": []
    },
    {
      "cell_type": "code",
      "source": [
        "union(s1,s2)"
      ],
      "metadata": {
        "colab": {
          "base_uri": "https://localhost:8080/"
        },
        "id": "PUBluwzjSA_a",
        "outputId": "e1142239-a100-418f-9bb5-f794c589204d"
      },
      "execution_count": null,
      "outputs": [
        {
          "output_type": "stream",
          "name": "stdout",
          "text": [
            "{1, 2, 3, 4, 5, 6, 7, 8}\n"
          ]
        }
      ]
    },
    {
      "cell_type": "markdown",
      "source": [
        "Q 27 : Develop a code tuple as integer as input. The function should return the maximum and minimum value from tuple using tuple unpacking."
      ],
      "metadata": {
        "id": "EAWWoGgtSLka"
      }
    },
    {
      "cell_type": "code",
      "source": [
        "def find_min_max(tpl: tuple) -> tuple:\n",
        "    min_val, max_val = min(tpl), max(tpl)  # Unpacking min and max values\n",
        "    return min_val, max_val  # Returning as a tuple\n",
        "\n",
        "# Example usage:\n",
        "numbers = (10, 20, 5, 30, 15)\n",
        "min_max = find_min_max(numbers)\n",
        "print(\"Minimum:\", min_max[0], \"Maximum:\", min_max[1])  # Output: Minimum: 5 Maximum: 30\n"
      ],
      "metadata": {
        "id": "coAQbjZWSDl-",
        "colab": {
          "base_uri": "https://localhost:8080/"
        },
        "outputId": "106f3286-4191-42db-ed01-d4529cb0d722"
      },
      "execution_count": null,
      "outputs": [
        {
          "output_type": "stream",
          "name": "stdout",
          "text": [
            "Minimum: 5 Maximum: 30\n"
          ]
        }
      ]
    },
    {
      "cell_type": "markdown",
      "source": [
        "Q 28 : Create a code that define two set of integer.Then print the union,intersection,and differnces of these two sets."
      ],
      "metadata": {
        "id": "O5M72O2VigyA"
      }
    },
    {
      "cell_type": "code",
      "source": [
        "def set_operations(set1, set2):\n",
        "    union_set = set1.union(set2)\n",
        "    intersection_set = set1.intersection(set2)\n",
        "    difference_set = set1.difference(set2)"
      ],
      "metadata": {
        "id": "gVSxSPufiEsL"
      },
      "execution_count": null,
      "outputs": []
    },
    {
      "cell_type": "code",
      "source": [
        "set1 = {1,2,3,4,5,6}\n",
        "set2 = {4,5,6,7,8,9}\n",
        "set_operations(set1,set2)"
      ],
      "metadata": {
        "id": "olcWf0YfjnUz"
      },
      "execution_count": null,
      "outputs": []
    },
    {
      "cell_type": "code",
      "source": [
        "set1.union(set2)"
      ],
      "metadata": {
        "colab": {
          "base_uri": "https://localhost:8080/"
        },
        "id": "7VVrVt8bjuvk",
        "outputId": "442c89fd-d313-4c26-fad3-d365d7fd88f3"
      },
      "execution_count": null,
      "outputs": [
        {
          "output_type": "execute_result",
          "data": {
            "text/plain": [
              "{1, 2, 3, 4, 5, 6, 7, 8, 9}"
            ]
          },
          "metadata": {},
          "execution_count": 73
        }
      ]
    },
    {
      "cell_type": "code",
      "source": [
        "set1.intersection(set2)"
      ],
      "metadata": {
        "colab": {
          "base_uri": "https://localhost:8080/"
        },
        "id": "bNJp-ulJjyAP",
        "outputId": "ebfab3bf-0851-4d4f-b071-5810ef3cf842"
      },
      "execution_count": null,
      "outputs": [
        {
          "output_type": "execute_result",
          "data": {
            "text/plain": [
              "{4, 5, 6}"
            ]
          },
          "metadata": {},
          "execution_count": 76
        }
      ]
    },
    {
      "cell_type": "code",
      "source": [
        "set1.difference(set2)"
      ],
      "metadata": {
        "colab": {
          "base_uri": "https://localhost:8080/"
        },
        "id": "JMt7mU4Rj7t2",
        "outputId": "5dc5571c-dd95-4222-c2cc-1ade6113cbf9"
      },
      "execution_count": null,
      "outputs": [
        {
          "output_type": "execute_result",
          "data": {
            "text/plain": [
              "{1, 2, 3}"
            ]
          },
          "metadata": {},
          "execution_count": 77
        }
      ]
    },
    {
      "cell_type": "markdown",
      "source": [
        "Q 29 : Write a code that take a tuple and an element as input .The function should return the count of occurences of the given element in tuple."
      ],
      "metadata": {
        "id": "ggLHChDElD2Z"
      }
    },
    {
      "cell_type": "code",
      "source": [
        "def count_occurrences(tpl: tuple, element) -> int:\n",
        "    return tpl.count(element)  # Using built-in count() method\n",
        "\n",
        "# Example usage:\n",
        "numbers = (1, 2, 3, 4, 2, 2, 5, 6, 2)\n",
        "element_to_count = 2\n",
        "print(count_occurrences(numbers, element_to_count))  # Output: 4\n"
      ],
      "metadata": {
        "colab": {
          "base_uri": "https://localhost:8080/"
        },
        "id": "zYFgAVq1k-Hc",
        "outputId": "442882cc-10f7-4e95-a155-6f728f60ba83"
      },
      "execution_count": null,
      "outputs": [
        {
          "output_type": "stream",
          "name": "stdout",
          "text": [
            "4\n"
          ]
        }
      ]
    },
    {
      "cell_type": "markdown",
      "source": [
        "Q 30 : Develop a code that prompts the user to input two set of strings. Then print the symmetric difference of these two sets."
      ],
      "metadata": {
        "id": "aGk_vTAjmatp"
      }
    },
    {
      "cell_type": "code",
      "source": [
        "def find_symmetric_difference():\n",
        "    set1 = set(input(\"Enter elements of the first set (space-separated): \").split())\n",
        "    set2 = set(input(\"Enter elements of the second set (space-separated): \").split())\n",
        "\n",
        "    sym_diff = set1 ^ set2  # Symmetric difference (elements in either set but not both)\n",
        "\n",
        "    print(\"Symmetric Difference:\", sym_diff)\n",
        "\n",
        "# Run the function\n",
        "find_symmetric_difference()\n"
      ],
      "metadata": {
        "colab": {
          "base_uri": "https://localhost:8080/"
        },
        "id": "jdws0xuNmFsg",
        "outputId": "a2d22d6d-10cd-4304-bf77-2a89c53a4faa"
      },
      "execution_count": null,
      "outputs": [
        {
          "output_type": "stream",
          "name": "stdout",
          "text": [
            "Enter elements of the first set (space-separated): monu\n",
            "Enter elements of the second set (space-separated): sachin\n",
            "Symmetric Difference: {'sachin', 'monu'}\n"
          ]
        }
      ]
    },
    {
      "cell_type": "markdown",
      "source": [
        "Q 31 : Write a code that take a list of word as input and returns a dictionary where the keys are unique words and the value are the frequencies of those words in the input list."
      ],
      "metadata": {
        "id": "An2bM2AAWEAS"
      }
    },
    {
      "cell_type": "code",
      "source": [
        "def word_frequencies(words: list) -> dict:\n",
        "    freq_dict = {}\n",
        "    for word in words:\n",
        "        freq_dict[word] = freq_dict.get(word, 0) + 1  # Increment count\n",
        "    return freq_dict\n",
        "\n",
        "# Example usage:\n",
        "words_list = [\"apple\", \"banana\", \"apple\", \"cherry\", \"banana\", \"banana\"]\n",
        "print(word_frequencies(words_list))\n",
        "# Output: {'apple': 2, 'banana': 3, 'cherry': 1}\n"
      ],
      "metadata": {
        "id": "lRpoEojLm4DJ",
        "colab": {
          "base_uri": "https://localhost:8080/"
        },
        "outputId": "ebe62b6f-a22c-464a-d62d-5d4109335e83"
      },
      "execution_count": 81,
      "outputs": [
        {
          "output_type": "stream",
          "name": "stdout",
          "text": [
            "{'apple': 2, 'banana': 3, 'cherry': 1}\n"
          ]
        }
      ]
    },
    {
      "cell_type": "markdown",
      "source": [
        "Q 32 : write a code that take two dictinoraies as input and merges them to a single dictinoary. If there are common keys,the value should be added together."
      ],
      "metadata": {
        "id": "rjkIDXkQXTY8"
      }
    },
    {
      "cell_type": "code",
      "source": [
        "def merge_dictionaries(dict1: dict, dict2: dict) -> dict:\n",
        "    merged_dict = dict1.copy()  # Start with dict1\n",
        "\n",
        "    for key, value in dict2.items():\n",
        "        merged_dict[key] = merged_dict.get(key, 0) + value  # Add values if key exists\n",
        "\n",
        "    return merged_dict\n",
        "\n",
        "# Example usage:\n",
        "dict1 = {'a': 10, 'b': 20, 'c': 30}\n",
        "dict2 = {'b': 5, 'c': 15, 'd': 25}\n",
        "\n",
        "print(merge_dictionaries(dict1, dict2))\n",
        "# Output: {'a': 10, 'b': 25, 'c': 45, 'd': 25}\n"
      ],
      "metadata": {
        "colab": {
          "base_uri": "https://localhost:8080/"
        },
        "id": "atKaZu-5XxK0",
        "outputId": "67eb3685-7311-45c2-ab6d-e3ff38bab6ff"
      },
      "execution_count": 90,
      "outputs": [
        {
          "output_type": "stream",
          "name": "stdout",
          "text": [
            "{'a': 10, 'b': 25, 'c': 45, 'd': 25}\n"
          ]
        }
      ]
    },
    {
      "cell_type": "code",
      "source": [],
      "metadata": {
        "id": "QMlNsUGtYjUu"
      },
      "execution_count": 90,
      "outputs": []
    },
    {
      "cell_type": "code",
      "source": [],
      "metadata": {
        "id": "xU-EvAz_Yjmy"
      },
      "execution_count": null,
      "outputs": []
    }
  ]
}